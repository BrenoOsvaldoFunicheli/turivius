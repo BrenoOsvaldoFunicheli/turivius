{
 "cells": [
  {
   "cell_type": "code",
   "execution_count": 1,
   "metadata": {},
   "outputs": [],
   "source": [
    "import json\n",
    "import pandas as pd\n",
    "import sqlalchemy"
   ]
  },
  {
   "cell_type": "code",
   "execution_count": 2,
   "metadata": {},
   "outputs": [],
   "source": [
    "s = data = pd.read_json('sample_data.json')"
   ]
  },
  {
   "cell_type": "markdown",
   "metadata": {},
   "source": [
    "# Instância da Conexão"
   ]
  },
  {
   "cell_type": "code",
   "execution_count": 5,
   "metadata": {},
   "outputs": [
    {
     "data": {
      "text/html": [
       "<div>\n",
       "<style scoped>\n",
       "    .dataframe tbody tr th:only-of-type {\n",
       "        vertical-align: middle;\n",
       "    }\n",
       "\n",
       "    .dataframe tbody tr th {\n",
       "        vertical-align: top;\n",
       "    }\n",
       "\n",
       "    .dataframe thead th {\n",
       "        text-align: right;\n",
       "    }\n",
       "</style>\n",
       "<table border=\"1\" class=\"dataframe\">\n",
       "  <thead>\n",
       "    <tr style=\"text-align: right;\">\n",
       "      <th></th>\n",
       "      <th>n_processo</th>\n",
       "      <th>id_cliente</th>\n",
       "      <th>favor_contribuinte</th>\n",
       "      <th>ementa</th>\n",
       "    </tr>\n",
       "  </thead>\n",
       "  <tbody>\n",
       "    <tr>\n",
       "      <th>0</th>\n",
       "      <td>2014/0156385-1</td>\n",
       "      <td>1</td>\n",
       "      <td>0</td>\n",
       "      <td>PROCESSUAL CIVIL. EMBARGOS DE DECLARAÇÃO NO RE...</td>\n",
       "    </tr>\n",
       "    <tr>\n",
       "      <th>1</th>\n",
       "      <td>2011/0259708-9</td>\n",
       "      <td>2</td>\n",
       "      <td>0</td>\n",
       "      <td>PROCESSUAL CIVIL E TRIBUTÁRIO. AGRAVO REGIMENT...</td>\n",
       "    </tr>\n",
       "    <tr>\n",
       "      <th>2</th>\n",
       "      <td>2016/0052997-8</td>\n",
       "      <td>2</td>\n",
       "      <td>0</td>\n",
       "      <td>PROCESSUAL CIVIL. TRIBUTÁRIO. CONTRIBUIÇÃO SOC...</td>\n",
       "    </tr>\n",
       "    <tr>\n",
       "      <th>3</th>\n",
       "      <td>2011/0086629-0</td>\n",
       "      <td>1</td>\n",
       "      <td>0</td>\n",
       "      <td>PROCESSO CIVIL E TRIBUTÁRIO. GRATUIDADE DE JUS...</td>\n",
       "    </tr>\n",
       "    <tr>\n",
       "      <th>4</th>\n",
       "      <td>2016/0247138-0</td>\n",
       "      <td>1</td>\n",
       "      <td>0</td>\n",
       "      <td>TRIBUTÁRIO E PROCESSUAL CIVIL. AGRAVO INTERNO ...</td>\n",
       "    </tr>\n",
       "    <tr>\n",
       "      <th>...</th>\n",
       "      <td>...</td>\n",
       "      <td>...</td>\n",
       "      <td>...</td>\n",
       "      <td>...</td>\n",
       "    </tr>\n",
       "    <tr>\n",
       "      <th>195</th>\n",
       "      <td>2013/0062287-5</td>\n",
       "      <td>2</td>\n",
       "      <td>2</td>\n",
       "      <td>TRIBUTÁRIO. AGRAVO REGIMENTAL NO RECURSO ESPEC...</td>\n",
       "    </tr>\n",
       "    <tr>\n",
       "      <th>196</th>\n",
       "      <td>2016/0012584-3</td>\n",
       "      <td>4</td>\n",
       "      <td>0</td>\n",
       "      <td>AGRAVO REGIMENTAL. PROCESSUAL CIVIL. TRIBUTÁRI...</td>\n",
       "    </tr>\n",
       "    <tr>\n",
       "      <th>197</th>\n",
       "      <td>2011/0212649-0</td>\n",
       "      <td>5</td>\n",
       "      <td>0</td>\n",
       "      <td>PROCESSUAL CIVIL. AGRAVO REGIMENTAL NO RECURSO...</td>\n",
       "    </tr>\n",
       "    <tr>\n",
       "      <th>198</th>\n",
       "      <td>2017/0225030-3</td>\n",
       "      <td>1</td>\n",
       "      <td>1</td>\n",
       "      <td>PROCESSUAL CIVIL E TRIBUTÁRIO. EXECUÇÃO FISCAL...</td>\n",
       "    </tr>\n",
       "    <tr>\n",
       "      <th>199</th>\n",
       "      <td>2014/0279706-9</td>\n",
       "      <td>5</td>\n",
       "      <td>0</td>\n",
       "      <td>PROCESSUAL CIVIL E TRIBUTÁRIO. AGRAVO INTERNO ...</td>\n",
       "    </tr>\n",
       "  </tbody>\n",
       "</table>\n",
       "<p>200 rows × 4 columns</p>\n",
       "</div>"
      ],
      "text/plain": [
       "         n_processo  id_cliente  favor_contribuinte  \\\n",
       "0    2014/0156385-1           1                   0   \n",
       "1    2011/0259708-9           2                   0   \n",
       "2    2016/0052997-8           2                   0   \n",
       "3    2011/0086629-0           1                   0   \n",
       "4    2016/0247138-0           1                   0   \n",
       "..              ...         ...                 ...   \n",
       "195  2013/0062287-5           2                   2   \n",
       "196  2016/0012584-3           4                   0   \n",
       "197  2011/0212649-0           5                   0   \n",
       "198  2017/0225030-3           1                   1   \n",
       "199  2014/0279706-9           5                   0   \n",
       "\n",
       "                                                ementa  \n",
       "0    PROCESSUAL CIVIL. EMBARGOS DE DECLARAÇÃO NO RE...  \n",
       "1    PROCESSUAL CIVIL E TRIBUTÁRIO. AGRAVO REGIMENT...  \n",
       "2    PROCESSUAL CIVIL. TRIBUTÁRIO. CONTRIBUIÇÃO SOC...  \n",
       "3    PROCESSO CIVIL E TRIBUTÁRIO. GRATUIDADE DE JUS...  \n",
       "4    TRIBUTÁRIO E PROCESSUAL CIVIL. AGRAVO INTERNO ...  \n",
       "..                                                 ...  \n",
       "195  TRIBUTÁRIO. AGRAVO REGIMENTAL NO RECURSO ESPEC...  \n",
       "196  AGRAVO REGIMENTAL. PROCESSUAL CIVIL. TRIBUTÁRI...  \n",
       "197  PROCESSUAL CIVIL. AGRAVO REGIMENTAL NO RECURSO...  \n",
       "198  PROCESSUAL CIVIL E TRIBUTÁRIO. EXECUÇÃO FISCAL...  \n",
       "199  PROCESSUAL CIVIL E TRIBUTÁRIO. AGRAVO INTERNO ...  \n",
       "\n",
       "[200 rows x 4 columns]"
      ]
     },
     "execution_count": 5,
     "metadata": {},
     "output_type": "execute_result"
    }
   ],
   "source": [
    "import psycopg2\n",
    "from sqlalchemy import create_engine\n",
    "\n",
    "ae   = create_engine('postgresql+psycopg2://turi:@127.0.0.1', pool_recycle=3600); \n",
    "dbc    = ae.connect();"
   ]
  },
  {
   "cell_type": "code",
   "execution_count": 5,
   "metadata": {},
   "outputs": [],
   "source": [
    "s.to_csv(\"sample.csv\",index_label=False, index=False, sep=';')"
   ]
  }
 ],
 "metadata": {
  "kernelspec": {
   "display_name": "Python 3",
   "language": "python",
   "name": "python3"
  },
  "language_info": {
   "codemirror_mode": {
    "name": "ipython",
    "version": 3
   },
   "file_extension": ".py",
   "mimetype": "text/x-python",
   "name": "python",
   "nbconvert_exporter": "python",
   "pygments_lexer": "ipython3",
   "version": "3.7.6"
  }
 },
 "nbformat": 4,
 "nbformat_minor": 4
}
